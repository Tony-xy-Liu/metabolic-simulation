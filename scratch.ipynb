{
 "cells": [
  {
   "cell_type": "code",
   "execution_count": 4,
   "metadata": {},
   "outputs": [
    {
     "name": "stdout",
     "output_type": "stream",
     "text": [
      "diagnoze.py\n",
      "pipeline.py\n"
     ]
    }
   ],
   "source": [
    "import os\n",
    "\n",
    "mpdir = '/home/tony/workspace/python/grad/metapathways/'\n",
    "path = mpdir+'src/metapathways/'\n",
    "\n",
    "for f in os.listdir(path):\n",
    "    if os.path.isdir(path+f): continue\n",
    "    with open(path+f) as src:\n",
    "        lines = src.readlines()\n",
    "        for l in lines:\n",
    "            if 'metacount' in l:\n",
    "                print(f)"
   ]
  },
  {
   "cell_type": "code",
   "execution_count": null,
   "metadata": {},
   "outputs": [],
   "source": []
  }
 ],
 "metadata": {
  "interpreter": {
   "hash": "4bf85e7b426d78f4576cd5279f94044fe14fce92d2e49900567ff09d00f1fea6"
  },
  "kernelspec": {
   "display_name": "Python 3.9.7 64-bit ('mp': conda)",
   "language": "python",
   "name": "python3"
  },
  "language_info": {
   "codemirror_mode": {
    "name": "ipython",
    "version": 3
   },
   "file_extension": ".py",
   "mimetype": "text/x-python",
   "name": "python",
   "nbconvert_exporter": "python",
   "pygments_lexer": "ipython3",
   "version": "3.9.7"
  },
  "orig_nbformat": 4
 },
 "nbformat": 4,
 "nbformat_minor": 2
}
